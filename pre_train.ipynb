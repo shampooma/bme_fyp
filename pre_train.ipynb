{
 "cells": [
  {
   "cell_type": "code",
   "execution_count": null,
   "metadata": {},
   "outputs": [],
   "source": [
    "import os\n",
    "import cv2\n",
    "import math\n",
    "import numpy as np\n",
    "import matplotlib.pyplot as plt"
   ]
  },
  {
   "cell_type": "code",
   "execution_count": null,
   "metadata": {},
   "outputs": [],
   "source": [
    "data_path = './data'"
   ]
  },
  {
   "cell_type": "markdown",
   "metadata": {},
   "source": [
    "### Check the image height to use"
   ]
  },
  {
   "cell_type": "code",
   "execution_count": null,
   "metadata": {},
   "outputs": [],
   "source": [
    "teste_file_names = os.listdir(os.path.join(data_path, 'test', 'images'))\n",
    "\n",
    "img = cv2.imread(os.path.join(data_path, 'test', 'images', teste_file_names[0]), cv2.IMREAD_GRAYSCALE).astype(np.float)\n",
    "img = cv2.warpPolar(\n",
    "    img,\n",
    "    (img.shape[1]//2, math.ceil(img.shape[0]*np.pi)),\n",
    "    (img.shape[1]/2, img.shape[0]/2),\n",
    "    img.shape[1]//2,\n",
    "    cv2.WARP_POLAR_LINEAR\n",
    ")\n",
    "img = img.T\n",
    "img = img[::-1,:]\n",
    "\n",
    "plt.figure(figsize=(30, 10))\n",
    "plt.imshow(img, cmap=\"gray\")\n",
    "plt.show()"
   ]
  },
  {
   "cell_type": "markdown",
   "metadata": {},
   "source": [
    "The image will be rotate as above"
   ]
  },
  {
   "cell_type": "code",
   "execution_count": null,
   "metadata": {},
   "outputs": [],
   "source": [
    "# Try to know the rows that only contains background color, Background color of img is 254\n",
    "not_only_background = {\n",
    "    'top': [],\n",
    "    'bottom': []\n",
    "}\n",
    "for dir_path, dir_names, file_names in os.walk(os.path.join(data_path)):\n",
    "    if dir_path.split('\\\\')[-1] == \"images\":\n",
    "        for file_name in file_names:\n",
    "            img = cv2.imread(os.path.join(dir_path, file_name), cv2.IMREAD_GRAYSCALE).astype(np.float)\n",
    "            img = cv2.warpPolar(\n",
    "                img,\n",
    "                (img.shape[1]//2, math.ceil(img.shape[0]*np.pi)),\n",
    "                (img.shape[1]/2, img.shape[0]/2),\n",
    "                img.shape[1]//2,\n",
    "                cv2.WARP_POLAR_LINEAR\n",
    "            )\n",
    "            img = img.T\n",
    "            img = img[::-1,:]\n",
    "\n",
    "            not_background = (img != 254).max(axis=1)\n",
    "            non_zero = np.nonzero(not_background)[0]\n",
    "            not_only_background['top'].append(non_zero[0])\n",
    "            not_only_background['bottom'].append(non_zero[-1])\n",
    "\n",
    "print(f\"top min: {np.array(not_only_background['top']).min()}\")\n",
    "print(f\"top std: {np.array(not_only_background['top']).std()}\")\n",
    "print(f\"bottom max: {np.array(not_only_background['bottom']).max()}\")\n",
    "print(f\"bottom std: {np.array(not_only_background['bottom']).std()}\")"
   ]
  },
  {
   "cell_type": "markdown",
   "metadata": {},
   "source": [
    "The size for each dimensions have to be divisible by 16, therefore in this project will cut the image [0:336, :] in polar coordinate"
   ]
  },
  {
   "cell_type": "markdown",
   "metadata": {},
   "source": [
    "### Check amount of padding to add for post processing"
   ]
  },
  {
   "cell_type": "code",
   "execution_count": null,
   "metadata": {},
   "outputs": [],
   "source": [
    "teste_file_names = os.listdir(os.path.join(data_path, 'test', 'images'))\n",
    "\n",
    "img = cv2.imread(os.path.join(data_path, 'test', 'images', teste_file_names[0]), cv2.IMREAD_GRAYSCALE).astype(np.float)\n",
    "img = cv2.warpPolar(\n",
    "    img,\n",
    "    (img.shape[1]//2, math.ceil(img.shape[0]*np.pi)),\n",
    "    (img.shape[1]/2, img.shape[0]/2),\n",
    "    img.shape[1]//2,\n",
    "    cv2.WARP_POLAR_LINEAR\n",
    ")\n",
    "img = img.T\n",
    "img = img[::-1,:]\n",
    "\n",
    "print(f\"padding to add for post processing: {img.shape[0] - 336}\")"
   ]
  },
  {
   "cell_type": "markdown",
   "metadata": {},
   "source": [
    "The padding to add for post processing will be 289 at the bottom"
   ]
  }
 ],
 "metadata": {
  "interpreter": {
   "hash": "3d84ccda806dbf62649977912b4afabf115dde6f274808098df3a5dfeee72a1f"
  },
  "kernelspec": {
   "display_name": "Python 3.6.6 64-bit",
   "language": "python",
   "name": "python3"
  },
  "language_info": {
   "codemirror_mode": {
    "name": "ipython",
    "version": 3
   },
   "file_extension": ".py",
   "mimetype": "text/x-python",
   "name": "python",
   "nbconvert_exporter": "python",
   "pygments_lexer": "ipython3",
   "version": "3.6.6"
  },
  "orig_nbformat": 4
 },
 "nbformat": 4,
 "nbformat_minor": 2
}
